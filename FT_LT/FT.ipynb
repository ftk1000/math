{
 "cells": [
  {
   "cell_type": "markdown",
   "metadata": {},
   "source": [
    "# Fourier Transform\n",
    "FT.ipynb\n",
    "\n",
    "2021.01.05"
   ]
  },
  {
   "cell_type": "markdown",
   "metadata": {},
   "source": [
    "###  [[Zack Star: The intuition behind Fourier and Laplace transforms I was never taught in school](https://www.youtube.com/watch?v=3gjJDuCAEQQ)<br>\n",
    "\n",
    "Given $f(t)$, the TF of it is a complex function $F(\\omega) = A_1(\\omega) + i A_2(\\omega)$, where $A_1(\\omega) $ and $A_2(\\omega)$ are areas under $f(t)\\cos(\\omega t)$ and $f(t)\\sin(\\omega t)$, respectively.\n",
    "![ZS_FT_001.JPG](ZS_FT_001.JPG)\n",
    "Complex number $F(\\omega)$ has magnitute $M=\\sqrt{A_1^2 + A_2^2}$ and phase $\\alpha = \\arctan(A_2/A_1)$.\n",
    "\n",
    "Intuitiion: $M(\\omega)$ tells us how large the areas are combined via Pythagorean theorem.\n",
    "$\\alpha(\\omega)$ tells us how area values are relative to each other as well as if either one of them is negative.\n",
    "![ZS_FT_002.JPG](ZS_FT_002.JPG)\n",
    "\n",
    "![ZS_FT_003.JPG](ZS_FT_003.JPG)\n",
    "\n",
    "![ZS_FT_004.JPG](ZS_FT_004.JPG)\n",
    "\n",
    "![ZS_FT_005.JPG](ZS_FT_005.JPG)\n",
    "\n",
    "<img src=\"ZS_FT_006.JPG\" width=600>\n",
    "\n"
   ]
  },
  {
   "cell_type": "code",
   "execution_count": null,
   "metadata": {},
   "outputs": [],
   "source": []
  }
 ],
 "metadata": {
  "kernelspec": {
   "display_name": "Python 3",
   "language": "python",
   "name": "python3"
  },
  "language_info": {
   "codemirror_mode": {
    "name": "ipython",
    "version": 3
   },
   "file_extension": ".py",
   "mimetype": "text/x-python",
   "name": "python",
   "nbconvert_exporter": "python",
   "pygments_lexer": "ipython3",
   "version": "3.8.3"
  }
 },
 "nbformat": 4,
 "nbformat_minor": 4
}
