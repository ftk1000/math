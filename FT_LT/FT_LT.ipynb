{
 "cells": [
  {
   "cell_type": "markdown",
   "metadata": {},
   "source": [
    "# Fourier and Laplace Transforms\n",
    "\n",
    "FT_LT.ipybn\n",
    "\n",
    "2021.01.05"
   ]
  },
  {
   "cell_type": "markdown",
   "metadata": {},
   "source": [
    "###  [Zach Star: What does the Laplace Transform really tell us? A visual explanation + apps](https://youtu.be/n2y7n6jw5d0)<br>\n",
    "\n",
    "Given $f(t)$, the TF of it is a complex function $F(\\omega) = A_1(\\omega) + i A_2(\\omega)$, where $A_1(\\omega) $ and $A_2(\\omega)$ are areas under $f(t)\\cos(\\omega t)$ and $f(t)\\sin(\\omega t)$, respectively.\n",
    "![ZS_FT_001.JPG](ZS_FT_001.JPG)\n",
    "Complex number $F(\\omega)$ has magnitute $M=\\sqrt{A_1^2 + A_2^2}$ and phase $\\alpha = \\arctan(A_2/A_1)$.\n",
    "\n",
    "Intuitiion: $M(\\omega)$ tells us how large the areas are combined via Pythagorean theorem.\n",
    "$\\alpha(\\omega)$ tells us how area values are relative to each other as well as if either one of them is negative.\n",
    "![ZS_FT_002.JPG](ZS_FT_002.JPG)\n",
    "\n",
    "![ZS_FT_003.JPG](ZS_FT_003.JPG)\n",
    "\n",
    "![ZS_FT_004.JPG](ZS_FT_004.JPG)\n",
    "\n",
    "![ZS_FT_005.JPG](ZS_FT_005.JPG)\n",
    "\n",
    "<img src=\"ZS_FT_006.JPG\" width=600>\n",
    "\n",
    "---\n",
    "\n",
    "<img src=\"ZS_LT_Visual_001.JPG\" width=600>\n",
    "\n",
    "<img src=\"ZS_LT_Visual_002.JPG\" width=600>\n",
    "\n",
    "<img src=\"ZS_LT_Visual_003.JPG\" width=600>\n",
    "\n",
    "<img src=\"ZS_LT_Visual_004.JPG\" width=600>\n",
    "\n",
    "<img src=\"ZS_LT_Visual_005.JPG\" width=600>\n",
    "\n",
    "<img src=\"ZS_LT_Visual_006.JPG\" width=600>\n",
    "\n",
    "<img src=\"ZS_LT_Visual_007.JPG\" width=600>\n",
    "\n",
    "<img src=\"ZS_LT_Visual_008.JPG\" width=600>\n"
   ]
  },
  {
   "cell_type": "code",
   "execution_count": null,
   "metadata": {},
   "outputs": [],
   "source": []
  },
  {
   "cell_type": "markdown",
   "metadata": {},
   "source": [
    "\n",
    "#### [Steve Burnton: The Laplace Transform: A Generalized Fourier Transform](https://www.youtube.com/watch?v=7UvtU75NXTg)<br>\n",
    "  - PDE ==> ODE,  - ODE ==> Algebra, - Control Theory\n",
    "  - Big Idea: LT of \"bad\" $f(t)$ is FT of $F(t) = f(t) e^{-\\gamma t} H(t)$<br>\n",
    "    -- $F(t) = 0$, if $t<0$, and $F(t)=f(t) e^{-\\gamma t}$ (i.e., decaying function) if $t\\ge 0$.<br>\n",
    "    -- Note $F(t)$ is one-sided, weighted $f(t)$.\n",
    "    \n",
    "  - FT of $F(t)$ is $\\displaystyle \\int^\\infty_{-\\infty} F(t) e^{-i\\omega t} dt =\n",
    "  \\int^\\infty_0 f(t) e^{s t} dt $ where $s=-(\\gamma+i\\omega)$.\n",
    "  - Hence FT of $F(t)$ is the LT of $f(t)$.\n",
    "  - Stopped at 11:18\n",
    "  \n",
    "![etc/tutorial_images/Brunton_LT.JPG](https://ftk1000.github.io/etc/tutorial_images/Brunton_LT.JPG)  \n",
    "\n",
    "\n",
    "* [Khan academy on LT - **Not very goood**](https://www.youtube.com/playlist?list=PL6D8DCFEAF1A468DD)<br>\n"
   ]
  },
  {
   "cell_type": "code",
   "execution_count": null,
   "metadata": {},
   "outputs": [],
   "source": []
  }
 ],
 "metadata": {
  "kernelspec": {
   "display_name": "Python 3",
   "language": "python",
   "name": "python3"
  },
  "language_info": {
   "codemirror_mode": {
    "name": "ipython",
    "version": 3
   },
   "file_extension": ".py",
   "mimetype": "text/x-python",
   "name": "python",
   "nbconvert_exporter": "python",
   "pygments_lexer": "ipython3",
   "version": "3.8.3"
  }
 },
 "nbformat": 4,
 "nbformat_minor": 4
}
