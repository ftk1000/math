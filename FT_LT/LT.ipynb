{
 "cells": [
  {
   "cell_type": "markdown",
   "metadata": {},
   "source": [
    "# Laplace Transform\n",
    "\n",
    "LT.ipybn\n",
    "\n",
    "2021.01.05"
   ]
  },
  {
   "cell_type": "markdown",
   "metadata": {},
   "source": [
    "# Laplace Transform (1784). Definition and Properties\n",
    "\n",
    "-  $\\displaystyle \\mathscr{L} \\big\\{ f(t) + g(t) \\big\\} \\ = \\ \\mathscr{L} \\big\\{ f(t) \\big\\} + \\mathscr{L} \\big\\{ g(t) \\big\\} $\n",
    "-  $\\displaystyle \\mathscr{L} \\big\\{ f\\ast g \\big\\} \\ = \\ \\mathscr{L} \\big\\{ f\\big\\}  \\ \\mathscr{L} \\big\\{  g \\big\\}  $\n",
    "- If $F(s) = \\mathscr{L} \\big\\{ f(t)\\big\\} $   and $G(s) = \\mathscr{L} \\big\\{ g(t)\\big\\} $, then \n",
    "  $  {\\mathscr{L}}^{-1} \\big\\{ F(s) G(s) \\big\\} \\ = \\ f(t) \\ast g(t) $\n",
    "\n",
    "#### [Discretised: Laplace transforms for LTI Systems](https://www.youtube.com/watch?v=nHp5eP0ewqE&t=11s)<br>\n",
    "\n",
    "Leonhard Euler's Transform (1744): \n",
    "$\\displaystyle z = \\int X(x) e^{ax} dx$<br>\n",
    "\n",
    "Definition of the Laplace Transform: \n",
    "$\\displaystyle    \\mathscr{L} \\big\\{ f(t)  \\big\\} \\ = \\ F(s) \\ = \\  \\int_{0}^{\\infty} f(t) e^{-st} dt$\n",
    "\n",
    "Properties of Laplace Transforms:\n",
    "\n",
    "  1. Laplas transforms turn DE into algebraic. E.g., $x'' + 3x' + 4x =0$ with no initial conditions. $\\displaystyle L: s^2+3s+4=0$\n",
    "  2. Turn convolutions into multiplications\n",
    "  3. LTs are unique for each function. Hence solving proplem in the transformed  S-space is the same as solving the oroginal problem in time space. ( There is an inverse Laplas Transform that takes us back. )\n",
    "\n",
    "\n",
    "\n",
    "\n",
    "#### [Steve Burnton: The Laplace Transform: A Generalized Fourier Transform](https://www.youtube.com/watch?v=7UvtU75NXTg)<br>\n",
    "  - PDE ==> ODE,  - ODE ==> Algebra, - Control Theory\n",
    "  - Big Idea: LT of \"bad\" $f(t)$ is FT of $F(t) = f(t) e^{-\\gamma t} H(t)$<br>\n",
    "    -- $F(t) = 0$, if $t<0$, and $F(t)=f(t) e^{-\\gamma t}$ (i.e., decaying function) if $t\\ge 0$.<br>\n",
    "    -- Note $F(t)$ is one-sided, weighted $f(t)$.\n",
    "    \n",
    "  - FT of $F(t)$ is $\\displaystyle \\int^\\infty_{-\\infty} F(t) e^{-i\\omega t} dt =\n",
    "  \\int^\\infty_0 f(t) e^{s t} dt $ where $s=-(\\gamma+i\\omega)$.\n",
    "  - Hence FT of $F(t)$ is the LT of $f(t)$.\n",
    "  - Stopped at 11:18\n",
    "  \n",
    "![etc/tutorial_images/Brunton_LT.JPG](https://ftk1000.github.io/etc/tutorial_images/Brunton_LT.JPG)  \n",
    "\n",
    "\n",
    "\n",
    "\n",
    "\n",
    "#### []()<br>\n",
    "#### []()<br>\n",
    "#### []()<br>\n"
   ]
  },
  {
   "cell_type": "markdown",
   "metadata": {},
   "source": [
    "###  [Zach Star: What does the Laplace Transform really tell us? A visual explanation + apps](https://youtu.be/n2y7n6jw5d0)<br>\n",
    "\n",
    "Given $f(t)$, the FT of it is a complex function $F(\\omega) = A_1(\\omega) + i A_2(\\omega)$, where $A_1(\\omega) $ and $A_2(\\omega)$ are areas under $f(t)\\cos(\\omega t)$ and $f(t)\\sin(\\omega t)$, respectively.\n",
    "\n",
    "Complex number $F(\\omega)$ has magnitute $M=\\sqrt{A_1^2 + A_2^2}$ and phase $\\alpha = \\arctan(A_2/A_1)$.\n",
    "\n",
    "Intuitiion: $M(\\omega)$ tells us how large the areas are combined via Pythagorean theorem.\n",
    "$\\alpha(\\omega)$ tells us how area values are relative to each other as well as if either one of them is negative.\n",
    "\n",
    "<img src=\"ZS_FT_006.JPG\" width=600>\n",
    "\n",
    "---\n",
    "\n",
    "\n",
    "<img src=\"ZS_LT_Visual_001.JPG\" width=600>\n",
    "\n",
    "<img src=\"ZS_LT_Visual_002.JPG\" width=600>\n",
    "\n",
    "<img src=\"ZS_LT_Visual_003.JPG\" width=600>\n",
    "\n",
    "<img src=\"ZS_LT_Visual_004.JPG\" width=600>\n",
    "\n",
    "<img src=\"ZS_LT_Visual_005.JPG\" width=600>\n",
    "\n",
    "<img src=\"ZS_LT_Visual_006.JPG\" width=600>\n",
    "\n",
    "<img src=\"ZS_LT_Visual_007.JPG\" width=600>\n",
    "\n",
    "<img src=\"ZS_LT_Visual_008.JPG\" width=600>\n"
   ]
  },
  {
   "cell_type": "code",
   "execution_count": null,
   "metadata": {},
   "outputs": [],
   "source": []
  },
  {
   "cell_type": "markdown",
   "metadata": {},
   "source": [
    "\n",
    "#### [Laplace Transform Explained and Visualized Intuitively  (Долго и нудно but graphics is good)](https://youtu.be/6MXMDrs6ZmA)\n",
    "\n",
    "* The music is:  Liszt's Hungarian Rhapsody No. 2\n",
    "\n",
    "* LT allows to evaluate the STABILTY and Freq.Response of a system\n",
    "\n",
    "* LT gives a method for easily solving DEs\n",
    "\n",
    "* Every **TIME domain function** $f(t)$ has an associated **FREQUENCY domain function** $F(s)$, which we call its **Laplace Transform**.\n",
    "\n",
    "* All waveforms can  be created by adding together exponential functions such as:\n",
    "\n",
    "  - $f(t) = 3e^{(2i)t} $\n",
    "  - $f(t) = 3e^{(2i)t} + 3e^{(-2i)t} $\n",
    "  - $f(t) = e^{(0.1+i)t} + 0.5e^{(0.1+6i)t} $\n",
    "  - $f(t) = e^{(0.1+i)t} + 0.5e^{(0.1+6i)t} + 0.5e^{(0.1-6i)t} + e^{(0.1-i)t}$\n",
    "  \n",
    "* The LT of a waveform tells us how much of each exponential function to add.  \n",
    "\n",
    "* I got lost after 9:53\n",
    "\n",
    "\n",
    "#### [Khan academy on LT - **Not very goood**](https://www.youtube.com/playlist?list=PL6D8DCFEAF1A468DD)<br>\n"
   ]
  },
  {
   "cell_type": "code",
   "execution_count": null,
   "metadata": {},
   "outputs": [],
   "source": []
  }
 ],
 "metadata": {
  "kernelspec": {
   "display_name": "Python 3",
   "language": "python",
   "name": "python3"
  },
  "language_info": {
   "codemirror_mode": {
    "name": "ipython",
    "version": 3
   },
   "file_extension": ".py",
   "mimetype": "text/x-python",
   "name": "python",
   "nbconvert_exporter": "python",
   "pygments_lexer": "ipython3",
   "version": "3.8.3"
  }
 },
 "nbformat": 4,
 "nbformat_minor": 4
}
