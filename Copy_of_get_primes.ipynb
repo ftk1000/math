{
  "nbformat": 4,
  "nbformat_minor": 0,
  "metadata": {
    "colab": {
      "name": "Copy of get_primes.ipynb",
      "provenance": [],
      "authorship_tag": "ABX9TyM/Y6iLc3tsZDplRtel+qox",
      "include_colab_link": true
    },
    "kernelspec": {
      "name": "python3",
      "display_name": "Python 3"
    }
  },
  "cells": [
    {
      "cell_type": "markdown",
      "metadata": {
        "id": "view-in-github",
        "colab_type": "text"
      },
      "source": [
        "<a href=\"https://colab.research.google.com/github/ftk1000/math/blob/main/Copy_of_get_primes.ipynb\" target=\"_parent\"><img src=\"https://colab.research.google.com/assets/colab-badge.svg\" alt=\"Open In Colab\"/></a>"
      ]
    },
    {
      "cell_type": "code",
      "metadata": {
        "id": "XzfNUntIbIP5"
      },
      "source": [
        "# https://www.youtube.com/watch?v=4PDoT7jtxmw\n",
        "# find Prime Numbers\n",
        "\n",
        "import keras as ks\n",
        "import numpy as np\n",
        "import math\n",
        "\n",
        "def get_primes(nmin,nmax):\n",
        "  res = []\n",
        "  for p in range( np.max([2,nmin]), nmax ):\n",
        "    notdivisable = True\n",
        "    kmax = int(np.sqrt(p)+1)\n",
        "    # print(nmin, nmax, p, kmax)\n",
        "    k=2\n",
        "    while (notdivisable) and (k<=kmax):\n",
        "      # print(f'p={p} k={k}')\n",
        "      if p%k == 0:\n",
        "        notdivisable = False\n",
        "      k += 1\n",
        "\n",
        "    if notdivisable:\n",
        "      # print(p, notdivisable)\n",
        "      res.append(p)\n",
        "\n",
        "  return res\n"
      ],
      "execution_count": null,
      "outputs": []
    },
    {
      "cell_type": "code",
      "metadata": {
        "colab": {
          "base_uri": "https://localhost:8080/"
        },
        "id": "LjZwig1wBcvI",
        "outputId": "620a98fa-4d83-4ef6-fd44-b96cee696bb9"
      },
      "source": [
        "get_primes(20,190)"
      ],
      "execution_count": null,
      "outputs": [
        {
          "output_type": "execute_result",
          "data": {
            "text/plain": [
              "[23,\n",
              " 29,\n",
              " 31,\n",
              " 37,\n",
              " 41,\n",
              " 43,\n",
              " 47,\n",
              " 53,\n",
              " 59,\n",
              " 61,\n",
              " 67,\n",
              " 71,\n",
              " 73,\n",
              " 79,\n",
              " 83,\n",
              " 89,\n",
              " 97,\n",
              " 101,\n",
              " 103,\n",
              " 107,\n",
              " 109,\n",
              " 113,\n",
              " 127,\n",
              " 131,\n",
              " 137,\n",
              " 139,\n",
              " 149,\n",
              " 151,\n",
              " 157,\n",
              " 163,\n",
              " 167,\n",
              " 173,\n",
              " 179,\n",
              " 181]"
            ]
          },
          "metadata": {
            "tags": []
          },
          "execution_count": 22
        }
      ]
    },
    {
      "cell_type": "code",
      "metadata": {
        "colab": {
          "base_uri": "https://localhost:8080/",
          "height": 35
        },
        "id": "yqbBBGiNbLAC",
        "outputId": "6f2bb5bc-9955-472b-910e-e39ad0ccfaa2"
      },
      "source": [
        "ks.__version__"
      ],
      "execution_count": null,
      "outputs": [
        {
          "output_type": "execute_result",
          "data": {
            "application/vnd.google.colaboratory.intrinsic+json": {
              "type": "string"
            },
            "text/plain": [
              "'2.4.3'"
            ]
          },
          "metadata": {
            "tags": []
          },
          "execution_count": 2
        }
      ]
    },
    {
      "cell_type": "code",
      "metadata": {
        "colab": {
          "base_uri": "https://localhost:8080/"
        },
        "id": "hAidsdJJBaFi",
        "outputId": "054df014-9af8-4dd1-cc03-89cd26a6d29b"
      },
      "source": [
        "int(2.14)"
      ],
      "execution_count": null,
      "outputs": [
        {
          "output_type": "execute_result",
          "data": {
            "text/plain": [
              "2"
            ]
          },
          "metadata": {
            "tags": []
          },
          "execution_count": 21
        }
      ]
    },
    {
      "cell_type": "code",
      "metadata": {
        "id": "2ocMOYVhDwNN"
      },
      "source": [
        ""
      ],
      "execution_count": null,
      "outputs": []
    }
  ]
}