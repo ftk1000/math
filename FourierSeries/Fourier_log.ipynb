{
 "cells": [
  {
   "cell_type": "markdown",
   "metadata": {},
   "source": [
    "# Fourier Series Fourier_log.ipynb\n",
    "\n",
    "2021.01.06"
   ]
  },
  {
   "cell_type": "code",
   "execution_count": 90,
   "metadata": {},
   "outputs": [
    {
     "data": {
      "text/html": [
       "<style>.container { width:93% !important; }</style>"
      ],
      "text/plain": [
       "<IPython.core.display.HTML object>"
      ]
     },
     "metadata": {},
     "output_type": "display_data"
    }
   ],
   "source": [
    "from IPython.core.display import display, HTML\n",
    "display(HTML(\"<style>.container { width:93% !important; }</style>\"))"
   ]
  },
  {
   "cell_type": "markdown",
   "metadata": {},
   "source": [
    "# Hata Models"
   ]
  },
  {
   "cell_type": "markdown",
   "metadata": {},
   "source": [
    "\n",
    "[Hata Model](https://en.wikipedia.org/wiki/Hata_model#:~:text=The%20Hata%20model%20is%20a,as%20the%20Okumura%E2%80%93Hata%20model.)\n",
    "\n",
    "The Hata model for urban environments is the basic formulation since it was based on Okumura's measurements made in the built-up areas of Tokyo. It is formulated as following:<br>\n",
    "$\\displaystyle L_{U}\\;=\\;69.55\\;+\\;26.16\\;\\log_{10}f\\;-\\;13.82\\;\\log_{10}h_{B}\\;-\\;C_{H}\\;+\\;\n",
    "[44.9\\;-\\;6.55\\;\\log_{10}h_{B}]\\;\\log_{10}d$\n",
    "\n",
    "where<br>\n",
    "$L_U$ = Path loss in urban areas. Unit: decibel (dB)<br>\n",
    "$h_B$ = Height of base station antenna. Unit: meter (m)<br>\n",
    "$h_M$ = Height of mobile station antenna. Unit: meter (m)<br>\n",
    "$f$ = Frequency of transmission. Unit: Megahertz (MHz)<br>\n",
    "$C_H$ = Antenna height correction factor<br>\n",
    "$d$ = Distance between the base and mobile stations. Unit: kilometer (km).<br>\n",
    "\n",
    "The Hata model for rural environments is applicable to the transmissions in open areas where no obstructions block the transmission link. It is formulated as:\n",
    "\n",
    "$\\displaystyle L_{O}\\;=\\;L_{U}\\;-\\;4.78 {\\big(} \\log_{10}{f}{\\big )}^{2}\\;+\\;18.33{\\big (}\\log_{10}{f}{\\big)}-\\;40.94$\n",
    "\n",
    "$L_{U}\\;=\\;69.55\\;+\\;26.16\\;\\log_{10}f\\;-\\;13.82\\;\\log_{10}h_{M}\\;-\\;C_{H}\\;+\\;\n",
    "[44.9\\;-\\;6.55\\;\\log_{10}h_{B}]\\;\\log_{10}d$"
   ]
  },
  {
   "cell_type": "code",
   "execution_count": null,
   "metadata": {},
   "outputs": [],
   "source": []
  },
  {
   "cell_type": "code",
   "execution_count": 92,
   "metadata": {},
   "outputs": [
    {
     "name": "stdout",
     "output_type": "stream",
     "text": [
      "Assuming f is constant,    Lo = Lu + C1 \n",
      "E.g., when f=2000 MHz,     Lo = Lu + (-32.52)\n",
      "------------\n",
      "If hb, hM, f, Ch, are all fixed, then Lu = C2 + B*long10(d_km)\n",
      "E.g., when hb=8 m, hM=1.5 m, f=2000 MHz, Ch=0,     C2=143.42, B=38.08 and     Lu = 143.42 + (38.08)log10(d_km)\n",
      "------------\n",
      "If hb, hM, f, Ch, are all fixed, then Lo = A + B*long10(d_km)\n",
      "E.g., when hb=8 m, hM=1.5 m, f=2000 MHz, Ch=0,     A=110.9, B=38.08 and     Lu = 110.9 + (38.08)log10(d_km)\n",
      "------------\n",
      "E.g., when hb=8 m, hM=1.5 m, f=2000 MHz, Ch=0,     A2=-3.34, B=38.08 and     Lu = (-3.34) + (38.08)log10(d_m)\n"
     ]
    }
   ],
   "source": [
    "import numpy as np\n",
    "import matplotlib.pyplot as plt\n",
    "from matplotlib.cm import get_cmap\n",
    "\n",
    "f=2000 #MHz\n",
    "C1 = np.round(-4.78*np.log10(f)**2 + 18.33*np.log10(f) - 40.94,2)\n",
    "print(f'Assuming f is constant,    Lo = Lu + C1 ')\n",
    "print(f'E.g., when f={f} MHz,     Lo = Lu + ({C1})')\n",
    "\n",
    "print('------------')\n",
    "\n",
    "hb = 8   # m\n",
    "hm = 1.5 # m\n",
    "Ch = 0\n",
    "C2 = np.round( 69.55 + 26.16*np.log10(f) -13.82*np.log10(hb) - Ch , 2)\n",
    "B = np.round( 44.0 - 6.55*np.log10(hb), 2)\n",
    "\n",
    "print('If hb, hM, f, Ch, are all fixed, then Lu = C2 + B*long10(d_km)')\n",
    "print(f'E.g., when hb={hb} m, hM={hm} m, f={f} MHz, Ch={Ch},     C2={C2}, B={B} and     Lu = {C2} + ({B})log10(d_km)')\n",
    "\n",
    "print('------------')\n",
    "\n",
    "A = np.round(C1+C2,2)\n",
    "print('If hb, hM, f, Ch, are all fixed, then Lo = A + B*long10(d_km)')\n",
    "print(f'E.g., when hb={hb} m, hM={hm} m, f={f} MHz, Ch={Ch},     A={A}, B={B} and     Lu = {A} + ({B})log10(d_km)')\n",
    "\n",
    "\n",
    "print('------------')\n",
    "A2 = np.round(A - B*3,2)\n",
    "print(f'E.g., when hb={hb} m, hM={hm} m, f={f} MHz, Ch={Ch},     A2={A2}, B={B} and     Lu = ({A2}) + ({B})log10(d_m)')\n",
    "\n"
   ]
  },
  {
   "cell_type": "code",
   "execution_count": 93,
   "metadata": {},
   "outputs": [],
   "source": [
    "def hata_v1(d_m):\n",
    "    A2 = -3.34\n",
    "    B  = 38.08 \n",
    "    return (A2 + B*np.log10(d_m))"
   ]
  },
  {
   "cell_type": "markdown",
   "metadata": {},
   "source": [
    "[COST Hata Model](https://en.wikipedia.org/wiki/COST_Hata_model)\n",
    "\n",
    "$\\displaystyle L_{b}=46.3+33.9\\log_{10}{\\frac {f}{\\text{MHz}}}-13.82\\log_{10}{\\frac{h_{B}}{\\text{m}}}-a(h_{R},f)+\n",
    "\\left(44.9-6.55\\log_{10}{\\frac{h_{B}}{\\text{m}}}\\right)\\log_{10}{\\frac{d}{\\text{km}}}+C_{m}$\n",
    "\n",
    "where,\n",
    "\n",
    "$\\displaystyle L_{b}$\tMedian path loss. Unit: decibel (dB)<br>\n",
    "$\\displaystyle f$\tFrequency of Transmission. Unit: megahertz (MHz)<br>\n",
    "$\\displaystyle h_{B}$\tBase station antenna effective height. Unit: meter (m)<br>\n",
    "$\\displaystyle d$\tLink distance. Unit: Kilometer (km)<br>\n",
    "$\\displaystyle h_{R}$\tMobile station antenna effective height. Unit: meter (m)<br>\n",
    "\n",
    "$\\displaystyle a(h_{R},f)$\t= Mobile station antenna height correction factor as described in the Hata model for urban areas.\n",
    "<br>\n",
    "For suburban or rural environments this factor is defined as,\n",
    "<br>\n",
    "$\\displaystyle a(h_{R},f)=\\left(1.1\\log_{10}{\\frac{f}{\\text{MHz}}}-0.7\\right){\\frac{h_{R}}{\\text{m}}}-\n",
    "\\left(1.56\\log_{10}{\\frac{f}{\\text{MHz}}}-0.8\\right)$\n",
    "<br>\n",
    "and, for urban environments (i.e. large cities) as,\n",
    "<br>\n",
    "${\\displaystyle a(h_{R},f)={\\begin{cases}8.29(\\log_{10}({1.54h_{R}}))^{2}-1.1&,{\\text{if }}150\\leq \n",
    "f\\leq 200\\\\3.2\\left(\\log_{10}\\left({11.75h_{R}}\\right)\\right)^{2}-4.97&,{\\text{if }}200<f\\leq 1500\\end{cases}}}$\n",
    "\n",
    "\n",
    "${\\displaystyle C_{m}}$\tConstant offset. Unit: decibel (dB). Defined as,<br>\n",
    "${\\displaystyle C_{m}={\\begin{cases}0\\ dB\\quad {\\text{for medium cities and suburban areas}}\\\\3\\ dB\\quad {\\text{for metropolitan areas}}\\end{cases}}}$"
   ]
  },
  {
   "cell_type": "code",
   "execution_count": 195,
   "metadata": {},
   "outputs": [
    {
     "data": {
      "image/png": "[encoded data removed]",
      "text/plain": [
       "<Figure size 576x288 with 1 Axes>"
      ]
     },
     "metadata": {
      "needs_background": "light"
     },
     "output_type": "display_data"
    }
   ],
   "source": [
    "plt.rcParams['figure.figsize'] = [8, 4]\n",
    "plt.rcParams.update({'font.size': 18})\n",
    "\n",
    "# Define domain\n",
    "dx = .05\n",
    "start_value = 20\n",
    "L = max_dist_m = 10*np.pi #30\n",
    "L = max_dist_m = 3000\n",
    "\n",
    "# x = L * np.arange(20+dx,2000+dx,dx)\n",
    "x = dm = np.arange(  start_value+dx,  start_value+dx+max_dist_m,  dx  )\n",
    "# print('x=dm=',dm)\n",
    "\n",
    "# path loss\n",
    "# f = -hata_v1(x)\n",
    "f = np.cos(3*x)\n",
    "f = np.cos(x)\n",
    "# f=x**2\n",
    "f= np.log10(x)\n",
    "f = -hata_v1(x)\n",
    "\n",
    "n = len(x)\n",
    "# print('f=',f)\n",
    "# nquart = int(np.floor(n/4))\n",
    "\n",
    "fig, ax = plt.subplots()\n",
    "ax.plot(x, f,'-',color='k',LineWidth=2)\n",
    "ax.grid(True)"
   ]
  },
  {
   "cell_type": "code",
   "execution_count": null,
   "metadata": {},
   "outputs": [],
   "source": []
  },
  {
   "cell_type": "code",
   "execution_count": 196,
   "metadata": {},
   "outputs": [
    {
     "data": {
      "text/plain": [
       "array([0.99911844, 0.99911404, 0.99910963, 0.9991052 , 0.99910077,\n",
       "       0.99909632, 0.99909187, 0.9990874 , 0.99908292, 0.99907843])"
      ]
     },
     "execution_count": 196,
     "metadata": {},
     "output_type": "execute_result"
    }
   ],
   "source": [
    "k=1\n",
    "np.cos(2*np.pi*k*x/L)[:10]"
   ]
  },
  {
   "cell_type": "code",
   "execution_count": 214,
   "metadata": {},
   "outputs": [
    {
     "data": {
      "image/png": "[encoded data removed]",
      "text/plain": [
       "<Figure size 2016x288 with 1 Axes>"
      ]
     },
     "metadata": {
      "needs_background": "light"
     },
     "output_type": "display_data"
    }
   ],
   "source": [
    "plt.rcParams['figure.figsize'] = [28, 4]\n",
    "fig, ax = plt.subplots()\n",
    "ax.plot(x, f,'-',color='k',LineWidth=2)\n",
    "ax.grid(True)\n",
    "\n",
    "# A0 = (2/L)*np.sum(f * np.ones_like(x)) * dx\n",
    "A0 = (2/L)*np.sum(f) * dx\n",
    "fFS = A0/4\n",
    "\n",
    "Ncoef = 100\n",
    "A = np.zeros(Ncoef)\n",
    "B = np.zeros(Ncoef)\n",
    "for k in range(Ncoef):\n",
    "#     A[k] = np.sum(f * np.cos(np.pi*(k+1)*x/L)) * dx # Inner product\n",
    "    A[k] = (1/L)*np.sum(f * np.cos(1*np.pi*(k+1)*x/L)) * dx # Inner product\n",
    "    B[k] = (1/L)*np.sum(f * np.sin(1*np.pi*(k+1)*x/L)) * dx # Inner product\n",
    "    fFS = fFS + A[k]*np.cos((k+1)*np.pi*x/L) + B[k]*np.sin((k+1)*np.pi*x/L)\n",
    "    if Ncoef-k<5:\n",
    "        ax.scatter(x,fFS,)"
   ]
  },
  {
   "cell_type": "code",
   "execution_count": 199,
   "metadata": {},
   "outputs": [
    {
     "data": {
      "text/plain": [
       "-56.59729576813019"
      ]
     },
     "execution_count": 199,
     "metadata": {},
     "output_type": "execute_result"
    }
   ],
   "source": [
    "A0/4"
   ]
  },
  {
   "cell_type": "code",
   "execution_count": 201,
   "metadata": {},
   "outputs": [
    {
     "name": "stdout",
     "output_type": "stream",
     "text": [
      "[10.8089168   3.06913317  3.9980612   1.30069825  2.77827862  0.66967768\n",
      "  2.27132761  0.34653756  1.99274649  0.15074317]\n",
      "[-73.47919824   6.40337048 -22.42349297   4.07312578 -12.87189308\n",
      "   3.04698652  -8.89974577   2.45149238  -6.73318085   2.05552176]\n"
     ]
    }
   ],
   "source": [
    "print(A[:10])\n",
    "print(B[:10])"
   ]
  },
  {
   "cell_type": "code",
   "execution_count": 216,
   "metadata": {},
   "outputs": [
    {
     "data": {
      "text/plain": [
       "3000"
      ]
     },
     "execution_count": 216,
     "metadata": {},
     "output_type": "execute_result"
    }
   ],
   "source": [
    "L"
   ]
  },
  {
   "cell_type": "code",
   "execution_count": 202,
   "metadata": {},
   "outputs": [
    {
     "data": {
      "text/plain": [
       "-226.38918307252072"
      ]
     },
     "execution_count": 202,
     "metadata": {},
     "output_type": "execute_result"
    }
   ],
   "source": [
    "np.sum(f)*dx/L*2"
   ]
  },
  {
   "cell_type": "code",
   "execution_count": 203,
   "metadata": {},
   "outputs": [
    {
     "data": {
      "text/plain": [
       "-339583.7746087811"
      ]
     },
     "execution_count": 203,
     "metadata": {},
     "output_type": "execute_result"
    }
   ],
   "source": [
    "A0 = np.sum(f * np.ones_like(x)) * dx\n",
    "# fFS = A0/2\n",
    "A0"
   ]
  },
  {
   "cell_type": "code",
   "execution_count": 204,
   "metadata": {},
   "outputs": [
    {
     "data": {
      "text/plain": [
       "0.05"
      ]
     },
     "execution_count": 204,
     "metadata": {},
     "output_type": "execute_result"
    }
   ],
   "source": [
    "dx"
   ]
  },
  {
   "cell_type": "code",
   "execution_count": 215,
   "metadata": {},
   "outputs": [
    {
     "data": {
      "image/png": "[encoded data removed]",
      "text/plain": [
       "<Figure size 2016x288 with 1 Axes>"
      ]
     },
     "metadata": {
      "needs_background": "light"
     },
     "output_type": "display_data"
    }
   ],
   "source": [
    "fig, ax = plt.subplots()\n",
    "ax.plot(x,f,'-',color='b',LineWidth=2)\n",
    "ax.grid(True)"
   ]
  },
  {
   "cell_type": "code",
   "execution_count": null,
   "metadata": {},
   "outputs": [],
   "source": []
  },
  {
   "cell_type": "code",
   "execution_count": 206,
   "metadata": {},
   "outputs": [
    {
     "data": {
      "text/plain": [
       "60000"
      ]
     },
     "execution_count": 206,
     "metadata": {},
     "output_type": "execute_result"
    }
   ],
   "source": [
    "len(f)"
   ]
  },
  {
   "cell_type": "code",
   "execution_count": 205,
   "metadata": {},
   "outputs": [
    {
     "data": {
      "text/plain": [
       "60000"
      ]
     },
     "execution_count": 205,
     "metadata": {},
     "output_type": "execute_result"
    }
   ],
   "source": [
    "len(x)"
   ]
  },
  {
   "cell_type": "code",
   "execution_count": 213,
   "metadata": {},
   "outputs": [
    {
     "data": {
      "image/png": "[encoded data removed]",
      "text/plain": [
       "<Figure size 2016x288 with 1 Axes>"
      ]
     },
     "metadata": {
      "needs_background": "light"
     },
     "output_type": "display_data"
    }
   ],
   "source": [
    "fig, ax = plt.subplots()\n",
    "ax.plot(x,f,'-',color='b',LineWidth=2)\n",
    "ax.grid(True)\n",
    "\n",
    "# # Define hat function\n",
    "# f = np.zeros_like(x)\n",
    "# f[nquart:2*nquart] = (4/n)*np.arange(1,nquart+1)\n",
    "# f[2*nquart:3*nquart] = np.ones(nquart) - (4/n)*np.arange(0,nquart)\n",
    "\n",
    "# fig, ax = plt.subplots()\n",
    "# ax.plot(x,f,'-',color='k',LineWidth=2)\n",
    "\n",
    "# Compute Fourier series\n",
    "name = \"Accent\"\n",
    "cmap = get_cmap('tab10')\n",
    "colors = cmap.colors\n",
    "ax.set_prop_cycle(color=colors)\n",
    "\n",
    "A0 = np.sum(f * np.ones_like(x)) * dx\n",
    "fFS = A0/2\n",
    "\n",
    "Ncoef = 400\n",
    "A = np.zeros(Ncoef)\n",
    "B = np.zeros(Ncoef)\n",
    "for k in range(Ncoef):\n",
    "    A[k] = np.sum(f * np.cos(np.pi*(k+1)*x/L)) * dx # Inner product\n",
    "    B[k] = np.sum(f * np.sin(np.pi*(k+1)*x/L)) * dx\n",
    "    fFS = fFS + A[k]*np.cos((k+1)*np.pi*x/L) + B[k]*np.sin((k+1)*np.pi*x/L)\n",
    "    if Ncoef-k<5:\n",
    "        ax.scatter(x,fFS,)    \n"
   ]
  },
  {
   "cell_type": "code",
   "execution_count": 52,
   "metadata": {},
   "outputs": [
    {
     "name": "stdout",
     "output_type": "stream",
     "text": [
      "A= [-2.16047706 -2.2190752  -2.22991702 -2.23369334]\n",
      "B= [14.13691789  6.89162252  4.39478107  3.08208092]\n"
     ]
    }
   ],
   "source": [
    "print('A=',A)\n",
    "print('B=',B)"
   ]
  },
  {
   "cell_type": "code",
   "execution_count": null,
   "metadata": {},
   "outputs": [],
   "source": []
  },
  {
   "cell_type": "code",
   "execution_count": null,
   "metadata": {},
   "outputs": [],
   "source": []
  },
  {
   "cell_type": "code",
   "execution_count": 81,
   "metadata": {},
   "outputs": [
    {
     "data": {
      "image/png": "[encoded data removed]",
      "text/plain": [
       "<Figure size 576x576 with 1 Axes>"
      ]
     },
     "metadata": {
      "needs_background": "light"
     },
     "output_type": "display_data"
    }
   ],
   "source": [
    "# Define domain\n",
    "dx = 0.2\n",
    "L = np.pi\n",
    "x = L * np.arange(-1+dx,1+dx,dx)\n",
    "n = len(x)\n",
    "nquart = int(np.floor(n/4))\n",
    "\n",
    "# Define hat function\n",
    "f = np.zeros_like(x)\n",
    "f[nquart:2*nquart] = (4/n)*np.arange(1,nquart+1)\n",
    "f[2*nquart:3*nquart] = np.ones(nquart) - (4/n)*np.arange(0,nquart)\n",
    "\n",
    "\n",
    "f=np.sin(x)\n",
    "\n",
    "# f=np.sin(x) + 3*np.sin(4*x)\n",
    "\n",
    "fig, ax = plt.subplots()\n",
    "ax.plot(x,f,'-',color='k',LineWidth=2)\n",
    "\n",
    "# Compute Fourier series\n",
    "name = \"Accent\"\n",
    "cmap = get_cmap('tab10')\n",
    "colors = cmap.colors\n",
    "ax.set_prop_cycle(color=colors)\n",
    "\n",
    "A0 = np.sum(f * np.ones_like(x)) * dx\n",
    "fFS = A0/2\n",
    "\n",
    "Ncoef=4\n",
    "A = np.zeros(Ncoef)\n",
    "B = np.zeros(Ncoef)\n",
    "for k in range(Ncoef):\n",
    "    A[k] = np.sum(f * np.cos(np.pi*(k+1)*x/L)) * dx # Inner product\n",
    "    B[k] = np.sum(f * np.sin(np.pi*(k+1)*x/L)) * dx\n",
    "    fFS = fFS + A[k]*np.cos((k+1)*np.pi*x/L) + B[k]*np.sin((k+1)*np.pi*x/L)\n",
    "    ax.plot(x,fFS,'-')"
   ]
  },
  {
   "cell_type": "code",
   "execution_count": 82,
   "metadata": {},
   "outputs": [
    {
     "data": {
      "text/plain": [
       "array([-2.51327412e+00, -1.88495559e+00, -1.25663706e+00, -6.28318531e-01,\n",
       "       -6.97573700e-16,  6.28318531e-01,  1.25663706e+00,  1.88495559e+00,\n",
       "        2.51327412e+00,  3.14159265e+00])"
      ]
     },
     "execution_count": 82,
     "metadata": {},
     "output_type": "execute_result"
    }
   ],
   "source": [
    "x"
   ]
  },
  {
   "cell_type": "code",
   "execution_count": 83,
   "metadata": {},
   "outputs": [
    {
     "data": {
      "text/plain": [
       "array([-5.87785252e-01, -9.51056516e-01, -9.51056516e-01, -5.87785252e-01,\n",
       "       -6.97573700e-16,  5.87785252e-01,  9.51056516e-01,  9.51056516e-01,\n",
       "        5.87785252e-01,  1.45473231e-15])"
      ]
     },
     "execution_count": 83,
     "metadata": {},
     "output_type": "execute_result"
    }
   ],
   "source": [
    "f"
   ]
  },
  {
   "cell_type": "code",
   "execution_count": null,
   "metadata": {},
   "outputs": [],
   "source": []
  },
  {
   "cell_type": "code",
   "execution_count": 84,
   "metadata": {},
   "outputs": [
    {
     "name": "stdout",
     "output_type": "stream",
     "text": [
      "ERR= [1.        0.9486833 0.9486833 0.9486833]\n",
      "4.381780460041329\n"
     ]
    }
   ],
   "source": [
    "print('ERR=',ERR )\n",
    "print(thresh)"
   ]
  },
  {
   "cell_type": "code",
   "execution_count": 85,
   "metadata": {},
   "outputs": [
    {
     "ename": "ValueError",
     "evalue": "zero-size array to reduction operation maximum which has no identity",
     "output_type": "error",
     "traceback": [
      "\u001b[1;31m---------------------------------------------------------------------------\u001b[0m",
      "\u001b[1;31mValueError\u001b[0m                                Traceback (most recent call last)",
      "\u001b[1;32m<ipython-input-85-f07abc65018b>\u001b[0m in \u001b[0;36m<module>\u001b[1;34m\u001b[0m\n\u001b[1;32m----> 1\u001b[1;33m \u001b[0mnp\u001b[0m\u001b[1;33m.\u001b[0m\u001b[0mmax\u001b[0m\u001b[1;33m(\u001b[0m\u001b[0mnp\u001b[0m\u001b[1;33m.\u001b[0m\u001b[0mwhere\u001b[0m\u001b[1;33m(\u001b[0m\u001b[0mERR\u001b[0m \u001b[1;33m>\u001b[0m \u001b[0mthresh\u001b[0m\u001b[1;33m)\u001b[0m\u001b[1;33m)\u001b[0m\u001b[1;33m\u001b[0m\u001b[1;33m\u001b[0m\u001b[0m\n\u001b[0m",
      "\u001b[1;32m<__array_function__ internals>\u001b[0m in \u001b[0;36mamax\u001b[1;34m(*args, **kwargs)\u001b[0m\n",
      "\u001b[1;32m~\\anaconda3\\lib\\site-packages\\numpy\\core\\fromnumeric.py\u001b[0m in \u001b[0;36mamax\u001b[1;34m(a, axis, out, keepdims, initial, where)\u001b[0m\n\u001b[0;32m   2665\u001b[0m     \u001b[1;36m5\u001b[0m\u001b[1;33m\u001b[0m\u001b[1;33m\u001b[0m\u001b[0m\n\u001b[0;32m   2666\u001b[0m     \"\"\"\n\u001b[1;32m-> 2667\u001b[1;33m     return _wrapreduction(a, np.maximum, 'max', axis, None, out,\n\u001b[0m\u001b[0;32m   2668\u001b[0m                           keepdims=keepdims, initial=initial, where=where)\n\u001b[0;32m   2669\u001b[0m \u001b[1;33m\u001b[0m\u001b[0m\n",
      "\u001b[1;32m~\\anaconda3\\lib\\site-packages\\numpy\\core\\fromnumeric.py\u001b[0m in \u001b[0;36m_wrapreduction\u001b[1;34m(obj, ufunc, method, axis, dtype, out, **kwargs)\u001b[0m\n\u001b[0;32m     88\u001b[0m                 \u001b[1;32mreturn\u001b[0m \u001b[0mreduction\u001b[0m\u001b[1;33m(\u001b[0m\u001b[0maxis\u001b[0m\u001b[1;33m=\u001b[0m\u001b[0maxis\u001b[0m\u001b[1;33m,\u001b[0m \u001b[0mout\u001b[0m\u001b[1;33m=\u001b[0m\u001b[0mout\u001b[0m\u001b[1;33m,\u001b[0m \u001b[1;33m**\u001b[0m\u001b[0mpasskwargs\u001b[0m\u001b[1;33m)\u001b[0m\u001b[1;33m\u001b[0m\u001b[1;33m\u001b[0m\u001b[0m\n\u001b[0;32m     89\u001b[0m \u001b[1;33m\u001b[0m\u001b[0m\n\u001b[1;32m---> 90\u001b[1;33m     \u001b[1;32mreturn\u001b[0m \u001b[0mufunc\u001b[0m\u001b[1;33m.\u001b[0m\u001b[0mreduce\u001b[0m\u001b[1;33m(\u001b[0m\u001b[0mobj\u001b[0m\u001b[1;33m,\u001b[0m \u001b[0maxis\u001b[0m\u001b[1;33m,\u001b[0m \u001b[0mdtype\u001b[0m\u001b[1;33m,\u001b[0m \u001b[0mout\u001b[0m\u001b[1;33m,\u001b[0m \u001b[1;33m**\u001b[0m\u001b[0mpasskwargs\u001b[0m\u001b[1;33m)\u001b[0m\u001b[1;33m\u001b[0m\u001b[1;33m\u001b[0m\u001b[0m\n\u001b[0m\u001b[0;32m     91\u001b[0m \u001b[1;33m\u001b[0m\u001b[0m\n\u001b[0;32m     92\u001b[0m \u001b[1;33m\u001b[0m\u001b[0m\n",
      "\u001b[1;31mValueError\u001b[0m: zero-size array to reduction operation maximum which has no identity"
     ]
    }
   ],
   "source": [
    " np.max(np.where(ERR > thresh))"
   ]
  },
  {
   "cell_type": "code",
   "execution_count": 86,
   "metadata": {},
   "outputs": [
    {
     "data": {
      "text/plain": [
       "array([False, False, False, False])"
      ]
     },
     "execution_count": 86,
     "metadata": {},
     "output_type": "execute_result"
    }
   ],
   "source": [
    "ERR > thresh"
   ]
  },
  {
   "cell_type": "code",
   "execution_count": null,
   "metadata": {},
   "outputs": [],
   "source": []
  },
  {
   "cell_type": "code",
   "execution_count": null,
   "metadata": {},
   "outputs": [],
   "source": []
  },
  {
   "cell_type": "code",
   "execution_count": null,
   "metadata": {},
   "outputs": [],
   "source": []
  },
  {
   "cell_type": "code",
   "execution_count": 88,
   "metadata": {},
   "outputs": [
    {
     "data": {
      "image/png": "[encoded data removed]",
      "text/plain": [
       "<Figure size 576x720 with 2 Axes>"
      ]
     },
     "metadata": {
      "needs_background": "light"
     },
     "output_type": "display_data"
    }
   ],
   "source": [
    "## Plot amplitudes\n",
    "\n",
    "plt.rcParams['figure.figsize'] = [8, 10]\n",
    "plt.rcParams.update({'font.size': 18})\n",
    "\n",
    "\n",
    "fFS = (A0/2) * np.ones_like(f)\n",
    "kmax = 4\n",
    "A = np.zeros(kmax)\n",
    "B = np.zeros(kmax)\n",
    "ERR = np.zeros(kmax)\n",
    "\n",
    "A[0] = A0/2\n",
    "ERR[0] = np.linalg.norm(f-fFS)/np.linalg.norm(f)\n",
    "\n",
    "for k in range(1,kmax):\n",
    "    A[k] = np.sum(f * np.cos(np.pi*k*x/L)) * dx\n",
    "    B[k] = np.sum(f * np.sin(np.pi*k*x/L)) * dx\n",
    "    fFS = fFS + A[k] * np.cos(k*np.pi*x/L) + B[k] * np.sin(k*np.pi*x/L)\n",
    "    ERR[k] = np.linalg.norm(f-fFS)/np.linalg.norm(f)\n",
    "    \n",
    "thresh = np.median(ERR) * np.sqrt(kmax) * (4/np.sqrt(3))\n",
    "\n",
    "r = np.max(np.where(ERR > thresh))\n",
    "\n",
    "fig, axs = plt.subplots(2,1)\n",
    "axs[0].semilogy(np.arange(kmax),A,color='k',LineWidth=2)\n",
    "axs[0].semilogy(r,A[r],'o',color='b',MarkerSize=10)\n",
    "plt.sca(axs[0])\n",
    "plt.title('Fourier Coefficients')\n",
    "\n",
    "axs[1].semilogy(np.arange(kmax),ERR,color='k',LineWidth=2)\n",
    "axs[1].semilogy(r,ERR[r],'o',color='b',MarkerSize=10)\n",
    "plt.sca(axs[1])\n",
    "plt.title('Error')\n",
    "\n",
    "plt.show()"
   ]
  },
  {
   "cell_type": "code",
   "execution_count": 89,
   "metadata": {},
   "outputs": [
    {
     "data": {
      "text/plain": [
       "array([ 5.66553890e-17, -1.91026390e-16,  1.85475275e-16, -7.44529721e-17])"
      ]
     },
     "execution_count": 89,
     "metadata": {},
     "output_type": "execute_result"
    }
   ],
   "source": [
    "A"
   ]
  },
  {
   "cell_type": "code",
   "execution_count": null,
   "metadata": {},
   "outputs": [],
   "source": []
  }
 ],
 "metadata": {
  "kernelspec": {
   "display_name": "Python 3",
   "language": "python",
   "name": "python3"
  },
  "language_info": {
   "codemirror_mode": {
    "name": "ipython",
    "version": 3
   },
   "file_extension": ".py",
   "mimetype": "text/x-python",
   "name": "python",
   "nbconvert_exporter": "python",
   "pygments_lexer": "ipython3",
   "version": "3.8.3"
  }
 },
 "nbformat": 4,
 "nbformat_minor": 2
}
