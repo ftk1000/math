{
 "cells": [
  {
   "cell_type": "code",
   "execution_count": 1,
   "metadata": {},
   "outputs": [
    {
     "data": {
      "text/html": [
       "<style>.container { width:93% !important; }</style>"
      ],
      "text/plain": [
       "<IPython.core.display.HTML object>"
      ]
     },
     "metadata": {},
     "output_type": "display_data"
    }
   ],
   "source": [
    "from IPython.core.display import display, HTML\n",
    "display(HTML(\"<style>.container { width:93% !important; }</style>\"))"
   ]
  },
  {
   "cell_type": "markdown",
   "metadata": {},
   "source": [
    "\n",
    "\n",
    "# Fourier Transform\n",
    "\n",
    "* [SB: The Fourier Transform](https://www.youtube.com/watch?v=jVYs-GTqm5U&list=PLMrJAkhIeNNT_Xh3Oy0Y4LTj0Oxo8GqsC&index=10)<br>\n",
    "<img src=\"SB_FA_P10_FourierTransform_001.JPG\" width=800>\n",
    "\n",
    "\n",
    "* [SB: 2020: Denoising Data with FFT [Python]](https://www.youtube.com/watch?v=s2K1JfNR7Sc&feature=youtu.be)<br>\n",
    "\n",
    "<img src=\"SB_FA_P20_DenoisingFFT_001.JPG\" width=800>\n",
    "\n",
    "\n",
    "\n",
    "* []()<br>\n",
    "* []()<br>\n",
    "* []()<br>\n",
    "\n",
    "\n",
    "# Allen Downey\n",
    "\n",
    "* [https://github.com/AllenDowney](https://github.com/AllenDowney)<br>\n",
    "* [Think DSP - Digital Signal Processing in Python, by Allen B. Downey](https://greenteapress.com/wp/think-dsp/)<br>\n",
    "* [ThinkDSP by Allen Downey (think-dsp.com) This notebook contains examples and demos for a SciPy 2015 talk.  (tinyurl/scipy15dsp)](https://nbviewer.jupyter.org/github/AllenDowney/ThinkDSP/blob/master/code/scipy2015_demo.ipynb)<br>\n",
    "* [**grab any sound from here**: https://freesound.org/ - ](https://freesound.org/)<br>\n",
    "* [FFT: Basic Sound Processing in Python | SciPy 2015 | Allen Downey](https://www.youtube.com/watch?v=0ALKGR0I5MA)<br>\n",
    "\n",
    "* []()<br>\n",
    "* []()<br>\n",
    "* []()<br>\n",
    "* []()<br>\n",
    "\n"
   ]
  },
  {
   "cell_type": "code",
   "execution_count": null,
   "metadata": {},
   "outputs": [],
   "source": []
  },
  {
   "cell_type": "code",
   "execution_count": null,
   "metadata": {},
   "outputs": [],
   "source": [
    "import numpy as np"
   ]
  },
  {
   "cell_type": "markdown",
   "metadata": {},
   "source": [
    "# Zach Star\n",
    "\n",
    "* [ZS: Curves and applications](https://www.youtube.com/watch?v=3izFMB91K_Q)<br>\n",
    "* [ZS: The Applications of Matrices | What I wish my teachers told me way earlier](https://www.youtube.com/watch?v=rowWM-MijXU)<br>\n",
    "* [ZS: The Mathematics of Signal Processing | The z-transform, discrete signals, and more](https://www.youtube.com/watch?v=hewTwm5P0Gg)<br>\n",
    "* []()<br>\n",
    "* []()<br>\n",
    "* []()<br>\n",
    "* []()<br>\n",
    "* []()<br>\n",
    "* []()<br>\n",
    "* []()<br>\n",
    "\n",
    "\n",
    "\n"
   ]
  }
 ],
 "metadata": {
  "kernelspec": {
   "display_name": "Python 3",
   "language": "python",
   "name": "python3"
  },
  "language_info": {
   "codemirror_mode": {
    "name": "ipython",
    "version": 3
   },
   "file_extension": ".py",
   "mimetype": "text/x-python",
   "name": "python",
   "nbconvert_exporter": "python",
   "pygments_lexer": "ipython3",
   "version": "3.8.3"
  }
 },
 "nbformat": 4,
 "nbformat_minor": 4
}
