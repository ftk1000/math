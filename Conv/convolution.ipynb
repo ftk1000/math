{
 "cells": [
  {
   "cell_type": "markdown",
   "metadata": {},
   "source": [
    "# Convolution\n",
    "\n",
    "2021.01.05"
   ]
  },
  {
   "cell_type": "code",
   "execution_count": null,
   "metadata": {},
   "outputs": [],
   "source": []
  },
  {
   "cell_type": "markdown",
   "metadata": {},
   "source": [
    "\n",
    "# Convolution $f\\circledast  s$ \n",
    "\n",
    "* [Discretised: Intuitive explanation of colvolution](https://youtu.be/QmcoPYUfbJ8)        <br>\n",
    "\n",
    "$\\displaystyle   (f\\ast s)(0) = f(0) s(0) = 1 s(0)$<br>\n",
    "$\\displaystyle   (f\\ast s)(1) = f(0) s(1) + f(1) s(0) = 1 s(1) + 2 s(0)$<br>\n",
    "\n",
    "$\\displaystyle   (f\\ast s)(3) = \\sum_{i=0}^3 f(i) \\ s(3-i) = f(0)s(3) + f(1)s(2) + f(2)s(1) + f(3)s(0)=1 s(3) + 2 s(2) + 3 s(1) + 4 s(0)$<br>\n",
    "\n",
    "\n",
    "\n",
    "\n",
    "* [Dr.Bazett: The Convolution of Two Functions | Definition & Properties](https://youtu.be/AgKQQtEc9dk)<br>\n",
    "\n",
    "  - Definition: $\\displaystyle \\quad  (f\\ast g)(t) \\ = \\ \\int_{0}^t f(\\tau) \\ g(t-\\tau) d\\tau $\n",
    "  - Commutative: $\\quad f \\ast g \\ = \\ g \\ast f$ \n",
    "  - Associative: $\\quad(f \\ast g) \\ast h \\ = \\  f \\ast (g \\ast h)$\n",
    "  - Distributive: $\\quad f \\ast (g+h) \\ = \\ (f \\ast g) + (f \\ast h)$\n",
    "  -  $\\displaystyle \\mathscr{L} \\big\\{ f\\ast g \\big\\} \\ = \\ \\mathscr{L} \\big\\{ f\\big\\}  \\ \\mathscr{L} \\big\\{  g \\big\\}  $\n",
    "  - If $F(s) = \\mathscr{L} \\big\\{ f(t)\\big\\} $   and $G(s) = \\mathscr{L} \\big\\{ g(t)\\big\\} $, then \n",
    "  $  {\\mathscr{L}}^{-1} \\big\\{ F(s) G(s) \\big\\} \\ = \\ f(t) \\ast g(t) $\n",
    "  - Example. $\\displaystyle \\mathscr{L} \\big\\{\\sin(t) \\big\\} = \\frac{1}{(s^2+1)^2} $. Hence \n",
    "  $\\displaystyle   {\\mathscr{L}}^{-1} \\big\\{ \\frac{1}{(s^2+1)^2} \\big\\} \\ = \\ \\sin(t) \\ast \\sin(t)\\ = \\ \n",
    "  0.5 \\big( \\sin(t) - t \\cos(t)     \\big) $\n"
   ]
  },
  {
   "cell_type": "code",
   "execution_count": null,
   "metadata": {},
   "outputs": [],
   "source": []
  },
  {
   "cell_type": "markdown",
   "metadata": {},
   "source": [
    "# Impulse Response\n",
    "\n",
    "\n",
    "* [Discretised: What is the impulse response and pulse response?](https://youtu.be/u6ceFafHTCA)<br>\n",
    "\n",
    "   - Discrete: Pulse/ Pulse Response \n",
    "   - Continuouse: Impulse/ Impulse Response   \n",
    "   - Output = Input convolved with Pulse Response\n",
    "   \n",
    "   \n",
    "* [Convolution and Unit Impulse Response (Долго и нудно but graphics is good)](https://youtu.be/acAw5WGtzuk)<br>   \n",
    "\n",
    "  \n",
    "# Digital Filers\n",
    "\n",
    "* [Discretised: Digital Filters 101: The 4 Basic Types of Filter](https://youtu.be/ZP9l042A9Wg)<br>\n",
    "\n"
   ]
  },
  {
   "cell_type": "code",
   "execution_count": null,
   "metadata": {},
   "outputs": [],
   "source": []
  },
  {
   "cell_type": "markdown",
   "metadata": {},
   "source": [
    "# Heat Equation $u_t' = u_{xx}''$\n",
    "\n",
    "#### [2016: Heat Equation by Gilbert Strang](https://youtu.be/i8rnEl8O-r0)\n",
    "![Put image here](Put image here)\n",
    "\n",
    "#### [3B1B: Heat Eq: But what is a partial differential equation? | DE2](https://youtu.be/ly4S0oi3Yz8)\n",
    " - Pixelatex universe \n",
    " - Temperature change with time is proportional to the curvature with respect to distance \n",
    " - Core intuition:  Worry not how value changes from one point to the next, but how the rate of change chages (12:16).\n",
    " - Each point tending towards average of its neighbors\n",
    " - Boundary has its own rule\n",
    "\n",
    " - Steven Strogatz\n",
    " - [Steven Strogatz On The ‘Infinite Powers’ Of Calculus](https://www.sciencefriday.com/segments/steven-strogatz-on-the-infinite-powers-of-calculus/)\n",
    " \n",
    "#### [The diffusion equation | Week 12 | MIT 18.S191 Fall 2020 | Grant Sanderson](https://youtu.be/a3V0BJLIo_c)\n",
    "  - 12:50\n",
    "  - 2d discussion starts at 16 min\n",
    "  - The effect captured by random walk is minimal compared to other effects (towards the end)\n",
    "  - Once we develop a cont. model we go back to discrete when we use it in appl "
   ]
  },
  {
   "cell_type": "code",
   "execution_count": 2,
   "metadata": {},
   "outputs": [],
   "source": [
    "\n",
    "# ### Surface_Area_001.JPG\n",
    "# ![Surface_Area_001.JPG](Surface_Area_001.JPG)<br>\n",
    "\n",
    "# ---\n",
    "# ### https://drive.google.com/file/d/1SZR7SWTZu1_oi-SQ64TSxprO6Sh5H2Gw/view?usp=sharing\n",
    "# ![Gdrive](https://drive.google.com/file/d/1SZR7SWTZu1_oi-SQ64TSxprO6Sh5H2Gw/view?usp=sharing)"
   ]
  },
  {
   "cell_type": "markdown",
   "metadata": {},
   "source": [
    "\n",
    "# Multivariable Calculus\n",
    "\n",
    "* [Dr.Bazett: What is VECTOR CALCULUS?? Full Course Introduction](https://youtu.be/AIxiYG-gZ00)<br>\n",
    "\n",
    "* [Dr.Bazett: Surface Area for Implicit & Explicit Surfaces](https://youtu.be/k13kwLzoTpo)\n",
    "\n",
    "\n",
    "\n",
    "![Surface_Area_001.JPG](https://ftk1000.github.io/etc/tutorial_images/Surface_Area_001.JPG)\n",
    "\n",
    "\n",
    "\n",
    "\n",
    "\n",
    "\n",
    "\n",
    "\n",
    "\n",
    "   \n",
    "* []()<br>\n",
    "* []()<br>\n",
    "\n",
    "\n",
    "\n",
    "\n",
    "\n",
    "\n",
    "\n",
    "\n",
    "\n",
    "\n",
    "\n",
    "\n",
    "\n"
   ]
  },
  {
   "cell_type": "code",
   "execution_count": null,
   "metadata": {},
   "outputs": [],
   "source": []
  },
  {
   "cell_type": "markdown",
   "metadata": {},
   "source": [
    "# [Equivalence Relation](https://en.wikipedia.org/wiki/Equivalence_relation#Definition)\n",
    "* A binary subset of $R\\subset X^2$ is an equivalent relation on $X$ if it is Reflexive $(a \\sim a)$, \n",
    "Symmetric $(a\\sim b \\iff b \\sim a)$, and Transitive $( a\\sim b , b\\sim c \\implies a\\sim c )$.\n",
    "\n"
   ]
  },
  {
   "cell_type": "code",
   "execution_count": null,
   "metadata": {},
   "outputs": [],
   "source": []
  }
 ],
 "metadata": {
  "kernelspec": {
   "display_name": "Python 3",
   "language": "python",
   "name": "python3"
  },
  "language_info": {
   "codemirror_mode": {
    "name": "ipython",
    "version": 3
   },
   "file_extension": ".py",
   "mimetype": "text/x-python",
   "name": "python",
   "nbconvert_exporter": "python",
   "pygments_lexer": "ipython3",
   "version": "3.8.3"
  }
 },
 "nbformat": 4,
 "nbformat_minor": 4
}
