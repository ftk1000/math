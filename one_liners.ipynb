{
 "cells": [
  {
   "cell_type": "code",
   "execution_count": null,
   "metadata": {},
   "outputs": [],
   "source": [
    "# one_liners.ipynb"
   ]
  },
  {
   "cell_type": "markdown",
   "metadata": {},
   "source": [
    "# How pass a function to another function by a reference\n",
    "\n",
    "In the example below we define a function **foo()** which given **f, x**, and **fstr** will compute and print **f(x)** for any **f** \n"
   ]
  },
  {
   "cell_type": "code",
   "execution_count": 1,
   "metadata": {},
   "outputs": [
    {
     "name": "stdout",
     "output_type": "stream",
     "text": [
      "squares [16  9  4  1  0  1  4  9]\n",
      "cubes [ 1  8 27]\n",
      "poly [ 186   95    0  -93 -178 -249]\n"
     ]
    }
   ],
   "source": [
    "import numpy as np\n",
    "\n",
    "def foo(f, fstr, x):\n",
    "    print(fstr, f(x))\n",
    "    \n",
    "foo(f = lambda x: x**2, \n",
    "    fstr='squares', \n",
    "    x=np.array([-4,-3,-2,-1,0,1,2,3]) )\n",
    "\n",
    "foo(f = lambda x: x**3, fstr='cubes', x=np.array([1,2,3]) )\n",
    "foo(f = lambda x: x**3+x**2+5*x-100*x, fstr='poly', x=np.array([-2,-1,0,1,2,3]) )\n"
   ]
  },
  {
   "cell_type": "code",
   "execution_count": 2,
   "metadata": {},
   "outputs": [],
   "source": [
    "# https://levelup.gitconnected.com/25-useful-python-one-liners-that-you-should-ec613df18260"
   ]
  },
  {
   "cell_type": "code",
   "execution_count": 1,
   "metadata": {},
   "outputs": [
    {
     "name": "stdout",
     "output_type": "stream",
     "text": [
      "5 4\n"
     ]
    }
   ],
   "source": [
    "# 1 Swapping Two Variables\n",
    "a = 4; b = 5\n",
    "a,b = b,a\n",
    "print(a,b) "
   ]
  },
  {
   "cell_type": "code",
   "execution_count": 2,
   "metadata": {},
   "outputs": [
    {
     "name": "stdout",
     "output_type": "stream",
     "text": [
      "4 5.5 Hello\n"
     ]
    }
   ],
   "source": [
    "# 2 Multiple Variable Assignments\n",
    "a,b,c = 4,   5.5,   'Hello'\n",
    "print(a,b,c) "
   ]
  },
  {
   "cell_type": "markdown",
   "metadata": {},
   "source": [
    "# Best way to sum a subset of an array is as a LIST\n",
    "\n",
    "In the examples below we evaluate two options to select and sum up a subset of a sequence of numbers.\n",
    "Using **LIST** is 13 times faster than uisng **numpy**"
   ]
  },
  {
   "cell_type": "code",
   "execution_count": 3,
   "metadata": {},
   "outputs": [
    {
     "name": "stdout",
     "output_type": "stream",
     "text": [
      "12\n"
     ]
    }
   ],
   "source": [
    "# 3 Sum of Even Numbers In a List\n",
    "# Option-1: using List\n",
    "a = [1,2,3,4,5,6]\n",
    "s = sum([num for num in a if num%2 == 0])\n",
    "print(s)"
   ]
  },
  {
   "cell_type": "code",
   "execution_count": 9,
   "metadata": {},
   "outputs": [
    {
     "data": {
      "text/plain": [
       "12"
      ]
     },
     "execution_count": 9,
     "metadata": {},
     "output_type": "execute_result"
    }
   ],
   "source": [
    "# Option-2 : using numpy\n",
    "import numpy as np\n",
    "a=np.array(a)\n",
    "np.sum(a[a%2==0])"
   ]
  },
  {
   "cell_type": "code",
   "execution_count": 4,
   "metadata": {},
   "outputs": [
    {
     "name": "stdout",
     "output_type": "stream",
     "text": [
      "<class 'list'>\n",
      "<class 'numpy.ndarray'>\n"
     ]
    }
   ],
   "source": [
    "# Evaluate and compare performance of both options\n",
    "import numpy as np\n",
    "N=1000000\n",
    "a = [1,2,3,4,5,6]\n",
    "print(type(a))\n",
    "an = np.array(a)\n",
    "print(type(an))"
   ]
  },
  {
   "cell_type": "code",
   "execution_count": 5,
   "metadata": {},
   "outputs": [
    {
     "name": "stdout",
     "output_type": "stream",
     "text": [
      "Wall time: 1.16 s\n"
     ]
    }
   ],
   "source": [
    "%%time\n",
    "for i in range(N):    \n",
    "    s = sum([num for num in a if num%2 == 0])"
   ]
  },
  {
   "cell_type": "code",
   "execution_count": 6,
   "metadata": {},
   "outputs": [
    {
     "name": "stdout",
     "output_type": "stream",
     "text": [
      "Wall time: 15.5 s\n"
     ]
    }
   ],
   "source": [
    "%%time\n",
    "for i in range(N):\n",
    "    np.sum(an[an%2==0])"
   ]
  },
  {
   "cell_type": "code",
   "execution_count": 7,
   "metadata": {},
   "outputs": [
    {
     "data": {
      "text/plain": [
       "13.362068965517242"
      ]
     },
     "execution_count": 7,
     "metadata": {},
     "output_type": "execute_result"
    }
   ],
   "source": [
    "15.5/1.16"
   ]
  },
  {
   "cell_type": "code",
   "execution_count": null,
   "metadata": {},
   "outputs": [],
   "source": []
  },
  {
   "cell_type": "code",
   "execution_count": null,
   "metadata": {},
   "outputs": [],
   "source": []
  },
  {
   "cell_type": "markdown",
   "metadata": {},
   "source": [
    "1. Swapping Two Variables\n",
    "\n",
    "        >> a = 4; b = 5\n",
    "        >> a,b = b,a\n",
    "        >> print(a,b) \n",
    "        5,4   \n",
    "2. Multiple Variable Assignments\n",
    "\n",
    "        >> a,b,c = 4,5.5,'Hello'\n",
    "        >> print(a,b,c) \n",
    "        4,5.5,hello\n",
    "    \n",
    "        >> a,b,*c = [1,2,3,4,5]\n",
    "        >> print(a,b,c)\n",
    "        1 2 [3,4,5]\n",
    "    \n",
    "3. Sum of Even Numbers In a List\n",
    "\n",
    "        a = [1,2,3,4,5,6]\n",
    "        s = sum([num for num in a if num%2 == 0])\n",
    "        print(s)\n",
    "        >> 12\n",
    "4. Deleting Multiple Elements from a List\n",
    "\n",
    "del is a keyword used in python to remove values from a list.\n",
    "#### Deleting all even\n",
    "a = [1,2,3,4,5]\n",
    "del a[1::2]\n",
    "print(a)\n",
    ">[1, 3, 5]\n",
    "a\n",
    "5. Reading Files\n",
    "lst = [line.strip() for line in open('data.txt')]\n",
    "print(lst)\n",
    "Here we are using list comprehension. First, we are opening a text file, and using a for loop, we are reading line by line. In the end, using strip we are removing all the unnecessary space. There is one much simpler and shorter way of doing this using just the list function.\n",
    "list(open('data.txt'))\n",
    "##Using with will also close the file after use\n",
    "with open(\"data.txt\") as f: lst=[line.strip() for line in f]\n",
    "print(lst)\n",
    "6. Writing data to file\n",
    "with open(\"data.txt\",'a',newline='\\n') as f: f.write(\"Python is awsome\")\n",
    "The above code will first create a file data.txt if not already there, and then it will write Python is awsome in the file.\n",
    "7. Creating Lists\n",
    "lst = [i for i in range(0,10)]\n",
    "print(lst)\n",
    "> [0, 1, 2, 3, 4, 5, 6, 7, 8, 9]\n",
    "or \n",
    "lst = list(range(0,10))\n",
    "print(lst)\n",
    "We can also create a list of strings using the same method.\n",
    "lst = [(\"Hello \"+i) for i in ['Karl','Abhay','Zen']]\n",
    "print(lst)\n",
    "> ['Hello Karl', 'Hello Abhay', 'Hello Zen']\n",
    "8. Mapping Lists or TypeCasting Whole List\n",
    "Sometimes in our project, we need to change the data types of all the elements in a list. The first method which comes to your mind is to use a loop and then access all the elements from the list and then one by one change the data type of the elements. This method is for the old school in python we have map a function that can do the work for us.\n",
    "list(map(int,['1','2','3']))\n",
    "> [1, 2, 3]\n",
    "list(map(float,[1,2,3]))\n",
    "> [1.0, 2.0, 3.0]\n",
    "[float(i) for i in [1,2,3]]\n",
    "> [1.0, 2.0, 3.0]\n",
    "9. Set Creation\n",
    "The method we used to create lists can be also used to create Sets. Let’s create a set using the method that contains the square root of all the even numbers in the range.\n",
    "#### Square of all even numbers in an range\n",
    "{x**2 for x in range(10) if x%2==0}\n",
    "> {0, 4, 16, 36, 64}\n",
    "10. Fizz Buzz\n",
    "In this quiz, we need to write a program that prints the numbers from 1 to 100. But for multiples of three, print “Fizz” instead of the number, and for the multiples of five, print “Buzz”.\n",
    "It looks like we have to use loops and multiple if-else statements. If you try to do it in any other language that you may have to write up to 10 lines of code but using python, we can implement FizzBuzz using just a single line of code.\n",
    "['FizzBuzz' if i%3==0 and i%5==0 else 'Fizz' if i%3==0 else 'Buzz' if i%5==0 else i  for i in range(1,20)]\n",
    "In the above code, we are using list comprehension to run a loop from 1 to 20, and then at each iteration of the loop, we are checking whether the number is divisible with 3 or 5. If yes, then we are replacing the number with Fizz or Buzz accordingly, else we replace the number with FizzBuzz.\n",
    "11. Palindrome\n",
    "A palindrome is a number or a string that looks the same when it gets reversed.\n",
    "text = 'level'\n",
    "ispalindrome = text == text[::-1]\n",
    "ispalindrome\n",
    "> True\n",
    "12. Space Separated integers to a List\n",
    "lis = list(map(int, input().split()))\n",
    "print(lis)\n",
    "> 1 2 3 4 5 6 7 8\n",
    "[1, 2, 3, 4, 5, 6, 7, 8]\n",
    "13. Lambda Function\n",
    "A lambda function is a small anonymous function. A lambda function can take any number of arguments, but can only have one expression.\n",
    "sqr = lambda x: x * x  ##Function that returns square of any number\n",
    "sqr(10)\n",
    "> 100\n",
    "14. To Check The Existence of a number in a list\n",
    "num = 5\n",
    "if num in [1,2,3,4,5]:\n",
    "     print('present')\n",
    "> present\n",
    "15. Printing Patterns\n",
    "Patterns are something that always fascinates me. In python, we can draw amazing patterns using just a single line of code.\n",
    "n = 5\n",
    "print('\\n'.join('😀' * i for i in range(1, n + 1)))\n",
    ">\n",
    "😀\n",
    "😀😀\n",
    "😀😀😀\n",
    "😀😀😀😀\n",
    "😀😀😀😀😀\n",
    "16. Finding Factorial\n",
    "Factorial is the product of an integer and all the integers below it.\n",
    "import math\n",
    "n = 6\n",
    "math.factorial(n)\n",
    "> 720\n",
    "17. Fibonacci Series\n",
    "A series of numbers in which each number ( Fibonacci number ) is the sum of the two preceding numbers. The simplest Fibonacci series 1, 1, 2, 3, 5, 8,13 etc. We can use list comprehensions and a for loop to create a Fibonacci series in a range.\n",
    "fibo = [0,1]\n",
    "[fibo.append(fibo[-2]+fibo[-1]) for i in range(5)]\n",
    "fibo\n",
    "> [0, 1, 1, 2, 3, 5, 8]\n",
    "18. Prime Number\n",
    "A prime number is a number that is divisible only by itself and 1. eg: 2,3,5,7 etc. To generate prime numbers in a range we can use the list function with filter and lambda to generate prime numbers.\n",
    "list(filter(lambda x:all(x % y != 0 for y in range(2, x)), range(2, 13)))\n",
    "> [2, 3, 5, 7, 11]\n",
    "19. Finding Max Number\n",
    "findmax = lambda x,y: x if x > y else y \n",
    "findmax(5,14)\n",
    "> 14\n",
    "or \n",
    "max(5,14)\n",
    "In the above code using the lambda function we are checking the comparison condition and according to that returning the max number.\n",
    "20. Linear Algebra\n",
    "Sometimes we need to scale the elements of a list to 2 times or 5 times. The code explains how.\n",
    "def scale(lst, x): return [i*x for i in lst] \n",
    "scale([2,3,4], 2) ## call\n",
    "> [4,6,8]\n",
    "21. Transpose of a matrix\n",
    "You need to change all the rows into columns and vice versa. In python, you can transpose a matrix in just one line of code using zip functions.\n",
    "a=[[1,2,3],\n",
    "   [4,5,6],\n",
    "   [7,8,9]] \n",
    "transpose = [list(i) for i in zip(*a)] \n",
    "transpose\n",
    "> [[1, 4, 7], [2, 5, 8], [3, 6, 9]]\n",
    "22. Counting occurrence of a pattern\n",
    "It is an important and useful use case when we need to know the count of occurrences of a pattern in the text. In python, we have the re library to do this work for you.\n",
    "import re; len(re.findall('python','python is a programming language. python is python.'))\n",
    "> 3\n",
    "23. Replacing a text with some other text\n",
    "\"python is a programming language.python is python\".replace(\"python\",'Java')\n",
    "> Java is a programming language. Java is Java\n",
    "24. Simulating Toss of a coin\n",
    "It may be not that important, but it can be very useful whenever you need to generate some random choice from a given set of choices.\n",
    "import random; random.choice(['Head',\"Tail\"])\n",
    "> Head\n",
    "25. Generating Groups\n",
    "groups = [(a, b) for a in ['a', 'b'] for b in [1, 2, 3]] \n",
    "groups\n",
    "> [('a', 1), ('a', 2), ('a', 3), ('b', 1), ('b', 2), ('b', 3)]\n",
    "I have shared all the useful and important one-liners that I know. If you know some more then let everyone know in the comments."
   ]
  },
  {
   "cell_type": "code",
   "execution_count": null,
   "metadata": {},
   "outputs": [],
   "source": []
  }
 ],
 "metadata": {
  "kernelspec": {
   "display_name": "Python 3",
   "language": "python",
   "name": "python3"
  },
  "language_info": {
   "codemirror_mode": {
    "name": "ipython",
    "version": 3
   },
   "file_extension": ".py",
   "mimetype": "text/x-python",
   "name": "python",
   "nbconvert_exporter": "python",
   "pygments_lexer": "ipython3",
   "version": "3.8.3"
  }
 },
 "nbformat": 4,
 "nbformat_minor": 4
}
