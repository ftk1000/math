{
 "cells": [
  {
   "cell_type": "code",
   "execution_count": 1,
   "metadata": {},
   "outputs": [
    {
     "data": {
      "text/html": [
       "<style>.container { width:93% !important; }</style>"
      ],
      "text/plain": [
       "<IPython.core.display.HTML object>"
      ]
     },
     "metadata": {},
     "output_type": "display_data"
    }
   ],
   "source": [
    "from IPython.core.display import display, HTML\n",
    "display(HTML(\"<style>.container { width:93% !important; }</style>\"))"
   ]
  },
  {
   "cell_type": "markdown",
   "metadata": {},
   "source": [
    "# FFT by S Brunton\n",
    "\n",
    "[SB: FFT](https://www.youtube.com/watch?v=toj_IoCQE-4&list=PLMrJAkhIeNNT_Xh3Oy0Y4LTj0Oxo8GqsC&index=18)<br>\n",
    "\n",
    "<img src=\"SB_FA_P17_FFT_001.JPG\" width=800>\n",
    "\n",
    "\n",
    "\n",
    "\n",
    "# FFT by Reducible\n",
    "\n",
    "* [Reducible: The Fast Fourier Transform (FFT): Most Ingenious Algorithm Ever?](https://www.youtube.com/watch?v=h7apO7q16V0&t=13s)<br>\n",
    "\n",
    "        0:00 Introduction\n",
    "        2:19 Polynomial Multiplication\n",
    "        3:36 Polynomial Representation\n",
    "        6:06 Value Representation Advantages\n",
    "        7:07 Polynomial Multiplication Flowchart\n",
    "        8:04 Polynomial Evaluation\n",
    "        13:49 Which Evaluation Points?\n",
    "        16:30 Why Nth Roots of Unity?\n",
    "        18:28 FFT Implementation\n",
    "        22:47 Interpolation and Inverse FFT\n",
    "        26:49 Recap\n",
    "\n",
    "        Also a subtle mistake that a commenter made me aware of -- at 26:40 \n",
    "        instead of replacing w with (1/n * e^{-2 * pi i/ n}), the actual right way to do this is \n",
    "        by taking the final output of the IFFT at the end of the recursion and dividing by n. \n",
    "\n",
    "        So the full change is w = e^{-2 pi i / n} \n",
    "        And then somewhere outside the scope of the IFFT function ifft_result = 1/n * IFFT(values)\n",
    "\n",
    "        The treatment of the FFT in this video is inspired by several well known references, mainly \n",
    "        Introduction to Algorithms (Cormen et al.) and Algorithms (Papadimitriou et al.).\n",
    "\n",
    "        Support: https://www.patreon.com/reducible\n",
    "\n",
    "This video wouldn't be possible without the open source manim library created by 3blue1brown: [https://github.com/3b1b/manim](https://github.com/3b1b/manim)\n",
    "\n",
    "Here is link to the repository that contains the code used to generate the animations in this video: [https://github.com/nipunramk/Reducible](https://github.com/nipunramk/Reducible)\n",
    "\n",
    "\n",
    "\n",
    "<img src=\"Reducible_FFT_001.JPG\" width=600>\n",
    "\n",
    "   Idea1: use coefficient representation.\n",
    "\n",
    "<img src=\"Reducible_FFT_002.JPG\" width=600>\n",
    "\n",
    "   Idea2: reduce $O(n^2)$ complexity to $O(n\\log n)$ by finding 'repeated' values.\n",
    "   \n",
    "<img src=\"Reducible_FFT_003.JPG\" width=600>\n",
    "<img src=\"Reducible_FFT_004.JPG\" width=800>\n",
    "<img src=\"Reducible_FFT_004A.JPG\" width=800>\n",
    "\n",
    "<img src=\"Reducible_FFT_005.JPG\" width=800>\n",
    "<img src=\"Reducible_FFT_006.JPG\" width=800>\n",
    "<img src=\"Reducible_FFT_007.JPG\" width=800>\n",
    "<img src=\"Reducible_FFT_008.JPG\" width=800>\n",
    "<img src=\"Reducible_FFT_009.JPG\" width=800>\n",
    "<img src=\"Reducible_FFT_010.JPG\" width=800>\n",
    "<img src=\"Reducible_FFT_011.JPG\" width=800>\n",
    "<img src=\"Reducible_FFT_012.JPG\" width=800>\n",
    "<img src=\"Reducible_FFT_013.JPG\" width=800>\n",
    "<img src=\"Reducible_FFT_014.JPG\" width=800>\n",
    "\n",
    "\n",
    "\n",
    "* []()<br>\n",
    "\n"
   ]
  },
  {
   "cell_type": "code",
   "execution_count": null,
   "metadata": {},
   "outputs": [],
   "source": []
  },
  {
   "cell_type": "code",
   "execution_count": null,
   "metadata": {},
   "outputs": [],
   "source": [
    "import numpy as np"
   ]
  },
  {
   "cell_type": "markdown",
   "metadata": {},
   "source": [
    "# Zach Star\n",
    "\n",
    "* [ZS: Curves and applications](https://www.youtube.com/watch?v=3izFMB91K_Q)<br>\n",
    "* [ZS: The Applications of Matrices | What I wish my teachers told me way earlier](https://www.youtube.com/watch?v=rowWM-MijXU)<br>\n",
    "* [ZS: The Mathematics of Signal Processing | The z-transform, discrete signals, and more](https://www.youtube.com/watch?v=hewTwm5P0Gg)<br>\n",
    "* []()<br>\n",
    "* []()<br>\n",
    "* []()<br>\n",
    "* []()<br>\n",
    "* []()<br>\n",
    "* []()<br>\n",
    "\n",
    "# Fourier Transform\n",
    "\n",
    "* [SB: The Fourier Transform](https://www.youtube.com/watch?v=jVYs-GTqm5U&list=PLMrJAkhIeNNT_Xh3Oy0Y4LTj0Oxo8GqsC&index=10)<br>\n",
    "<img src=\"SB_FourierTransform_P10_FS_001.JPG\" width=800>\n",
    "\n",
    "* []()<br>\n",
    "\n",
    "\n",
    "\n"
   ]
  },
  {
   "cell_type": "code",
   "execution_count": null,
   "metadata": {},
   "outputs": [],
   "source": []
  }
 ],
 "metadata": {
  "kernelspec": {
   "display_name": "Python 3",
   "language": "python",
   "name": "python3"
  },
  "language_info": {
   "codemirror_mode": {
    "name": "ipython",
    "version": 3
   },
   "file_extension": ".py",
   "mimetype": "text/x-python",
   "name": "python",
   "nbconvert_exporter": "python",
   "pygments_lexer": "ipython3",
   "version": "3.8.3"
  }
 },
 "nbformat": 4,
 "nbformat_minor": 4
}
